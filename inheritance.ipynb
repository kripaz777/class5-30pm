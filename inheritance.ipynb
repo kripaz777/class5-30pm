{
 "cells": [
  {
   "cell_type": "code",
   "execution_count": 1,
   "metadata": {},
   "outputs": [],
   "source": [
    "# class A:\n",
    "#     pass\n",
    "\n",
    "# class B(A):\n",
    "#     pass\n",
    "\n",
    "# obj = B()"
   ]
  },
  {
   "cell_type": "code",
   "execution_count": 2,
   "metadata": {},
   "outputs": [
    {
     "name": "stdout",
     "output_type": "stream",
     "text": [
      "Enter name = Ram\n",
      "Enter age = 34\n",
      "Enter add = Kathmandu\n",
      "Hello World I am Ram. I am from Kathmandu. I am 34\n"
     ]
    }
   ],
   "source": [
    "class A:\n",
    "    def __init__(self):\n",
    "        self.name = input(\"Enter name = \")\n",
    "        self.age = int(input(\"Enter age = \"))\n",
    "        self.add = input(\"Enter add = \")\n",
    "        \n",
    "class B(A):\n",
    "    def info(self):\n",
    "        d = f\"Hello World I am {self.name}. I am from {self.add}. I am {self.age}\"\n",
    "        print(d)\n",
    "obj = B()\n",
    "obj.info()"
   ]
  },
  {
   "cell_type": "code",
   "execution_count": 3,
   "metadata": {},
   "outputs": [
    {
     "name": "stdout",
     "output_type": "stream",
     "text": [
      "Enter name = Ram\n",
      "Enter age = 34\n",
      "Enter add = Kathmandu\n",
      "Hello World I am Ram. I am from Kathmandu. I am 34\n"
     ]
    }
   ],
   "source": [
    "class A:\n",
    "    def __init__(self,name,age,add):\n",
    "        self.name = name\n",
    "        self.age = age\n",
    "        self.add = add\n",
    "        \n",
    "class B(A):\n",
    "    def info(self):\n",
    "        d = f\"Hello World I am {self.name}. I am from {self.add}. I am {self.age}\"\n",
    "        print(d)\n",
    "        \n",
    "name = input(\"Enter name = \")\n",
    "age = int(input(\"Enter age = \"))\n",
    "add = input(\"Enter add = \")\n",
    "\n",
    "obj = B(name,age,add)\n",
    "obj.info()"
   ]
  },
  {
   "cell_type": "code",
   "execution_count": 4,
   "metadata": {},
   "outputs": [
    {
     "name": "stdout",
     "output_type": "stream",
     "text": [
      "Enter name = ram\n",
      "Enter age = 34\n",
      "Enter add = Kathmandu\n",
      "Hello World I am ram. I am from Kathmandu. I am 34\n"
     ]
    }
   ],
   "source": [
    "class A:\n",
    "    def __init__(self,add):\n",
    "        self.add = add\n",
    "        \n",
    "class B(A):\n",
    "    def __init__(self,name,age,add):\n",
    "        self.name = name\n",
    "        self.age = age\n",
    "        A.__init__(self,add)\n",
    "        \n",
    "    def info(self):\n",
    "        d = f\"Hello World I am {self.name}. I am from {self.add}. I am {self.age}\"\n",
    "        print(d)\n",
    "        \n",
    "name = input(\"Enter name = \")\n",
    "age = int(input(\"Enter age = \"))\n",
    "add = input(\"Enter add = \")\n",
    "\n",
    "obj = B(name,age,add)\n",
    "obj.info()"
   ]
  },
  {
   "cell_type": "code",
   "execution_count": 5,
   "metadata": {},
   "outputs": [],
   "source": [
    "# Multi level\n",
    "class A:\n",
    "    pass\n",
    "\n",
    "class B(A):\n",
    "    pass\n",
    "\n",
    "class C(B):\n",
    "    pass\n",
    "\n",
    "obj = C()"
   ]
  },
  {
   "cell_type": "code",
   "execution_count": null,
   "metadata": {},
   "outputs": [],
   "source": [
    "# Multiple\n",
    "class A:\n",
    "    pass\n",
    "\n",
    "class B:\n",
    "    pass\n",
    "\n",
    "class C(A,B):\n",
    "    pass\n",
    "\n",
    "obj = C()"
   ]
  },
  {
   "cell_type": "code",
   "execution_count": 6,
   "metadata": {},
   "outputs": [
    {
     "name": "stdout",
     "output_type": "stream",
     "text": [
      "Enter name = Ram\n",
      "Enter age = 34\n",
      "Enter add = Kathmandu\n",
      "Hello World I am Ram. I am from 34. I am Kathmandu\n"
     ]
    }
   ],
   "source": [
    "class A:\n",
    "    def __init__(self,add):\n",
    "        self.add = add\n",
    "        \n",
    "class B(A):\n",
    "    def __init__(self,add,age):\n",
    "        self.age = age\n",
    "        A.__init__(self,add)\n",
    "        \n",
    "class C(B):\n",
    "    def __init__(self,name,age,add):\n",
    "        self.name = name\n",
    "        B.__init__(self,age,add)\n",
    "        \n",
    "    def info(self):\n",
    "        d = f\"Hello World I am {self.name}. I am from {self.add}. I am {self.age}\"\n",
    "        print(d)\n",
    "        \n",
    "name = input(\"Enter name = \")\n",
    "age = int(input(\"Enter age = \"))\n",
    "add = input(\"Enter add = \")\n",
    "\n",
    "obj = C(name,age,add)\n",
    "obj.info()"
   ]
  },
  {
   "cell_type": "code",
   "execution_count": null,
   "metadata": {},
   "outputs": [],
   "source": [
    "class A:\n",
    "    def __init__(self,add):\n",
    "        self.add = add\n",
    "        \n",
    "class B:\n",
    "    def __init__(self,age):\n",
    "        self.age = age\n",
    "        \n",
    "class C(A,B):\n",
    "    def __init__(self,name,age,add):\n",
    "        self.name =name\n",
    "        B.__init__(self,age)\n",
    "        A.__init__(self,add)\n",
    "        \n",
    "    def info(self):\n",
    "        d = f\"Hello World I am {self.name}. I am from {self.add}. I am {self.age}\"\n",
    "        print(d)\n",
    "        \n",
    "name = input(\"Enter name = \")\n",
    "age = int(input(\"Enter age = \"))\n",
    "add = input(\"Enter add = \")\n",
    "\n",
    "obj = C(name,age,add)\n",
    "obj.info()"
   ]
  },
  {
   "cell_type": "code",
   "execution_count": 1,
   "metadata": {},
   "outputs": [],
   "source": [
    "# Private\n",
    "# public\n",
    "# protected"
   ]
  },
  {
   "cell_type": "code",
   "execution_count": 3,
   "metadata": {},
   "outputs": [
    {
     "name": "stdout",
     "output_type": "stream",
     "text": [
      "Ram\n",
      "34\n",
      "Kathmandu\n"
     ]
    }
   ],
   "source": [
    "#Public\n",
    "class Information:\n",
    "    def __init__(self,name,age,add):\n",
    "        self.name = name\n",
    "        self.age = age\n",
    "        self.add = add\n",
    "        \n",
    "obj = Information(\"Ram\",34,\"Kathmandu\")\n",
    "print(obj.name)\n",
    "print(obj.age)\n",
    "print(obj.add)"
   ]
  },
  {
   "cell_type": "code",
   "execution_count": 4,
   "metadata": {},
   "outputs": [
    {
     "name": "stdout",
     "output_type": "stream",
     "text": [
      "Ram\n",
      "34\n",
      "Kathmandu\n"
     ]
    }
   ],
   "source": [
    "# protected\n",
    "class Information:\n",
    "    def __init__(self,name,age,add):\n",
    "        self._name = name\n",
    "        self._age = age\n",
    "        self._add = add\n",
    "        \n",
    "obj = Information(\"Ram\",34,\"Kathmandu\")\n",
    "print(obj._name)\n",
    "print(obj._age)\n",
    "print(obj._add)"
   ]
  },
  {
   "cell_type": "code",
   "execution_count": 5,
   "metadata": {},
   "outputs": [
    {
     "ename": "AttributeError",
     "evalue": "'Information' object has no attribute '__name'",
     "output_type": "error",
     "traceback": [
      "\u001b[1;31m---------------------------------------------------------------------------\u001b[0m",
      "\u001b[1;31mAttributeError\u001b[0m                            Traceback (most recent call last)",
      "\u001b[1;32m~\\AppData\\Local\\Temp/ipykernel_11920/2897951164.py\u001b[0m in \u001b[0;36m<module>\u001b[1;34m\u001b[0m\n\u001b[0;32m      7\u001b[0m \u001b[1;33m\u001b[0m\u001b[0m\n\u001b[0;32m      8\u001b[0m \u001b[0mobj\u001b[0m \u001b[1;33m=\u001b[0m \u001b[0mInformation\u001b[0m\u001b[1;33m(\u001b[0m\u001b[1;34m\"Ram\"\u001b[0m\u001b[1;33m,\u001b[0m\u001b[1;36m34\u001b[0m\u001b[1;33m,\u001b[0m\u001b[1;34m\"Kathmandu\"\u001b[0m\u001b[1;33m)\u001b[0m\u001b[1;33m\u001b[0m\u001b[1;33m\u001b[0m\u001b[0m\n\u001b[1;32m----> 9\u001b[1;33m \u001b[0mprint\u001b[0m\u001b[1;33m(\u001b[0m\u001b[0mobj\u001b[0m\u001b[1;33m.\u001b[0m\u001b[0m__name\u001b[0m\u001b[1;33m)\u001b[0m\u001b[1;33m\u001b[0m\u001b[1;33m\u001b[0m\u001b[0m\n\u001b[0m\u001b[0;32m     10\u001b[0m \u001b[0mprint\u001b[0m\u001b[1;33m(\u001b[0m\u001b[0mobj\u001b[0m\u001b[1;33m.\u001b[0m\u001b[0m__age\u001b[0m\u001b[1;33m)\u001b[0m\u001b[1;33m\u001b[0m\u001b[1;33m\u001b[0m\u001b[0m\n\u001b[0;32m     11\u001b[0m \u001b[0mprint\u001b[0m\u001b[1;33m(\u001b[0m\u001b[0mobj\u001b[0m\u001b[1;33m.\u001b[0m\u001b[0m__add\u001b[0m\u001b[1;33m)\u001b[0m\u001b[1;33m\u001b[0m\u001b[1;33m\u001b[0m\u001b[0m\n",
      "\u001b[1;31mAttributeError\u001b[0m: 'Information' object has no attribute '__name'"
     ]
    }
   ],
   "source": [
    "# private\n",
    "class Information:\n",
    "    def __init__(self,name,age,add):\n",
    "        self.__name = name\n",
    "        self.__age = age\n",
    "        self.__add = add\n",
    "        \n",
    "obj = Information(\"Ram\",34,\"Kathmandu\")\n",
    "print(obj.__name)\n",
    "print(obj.__age)\n",
    "print(obj.__add)"
   ]
  },
  {
   "cell_type": "code",
   "execution_count": 6,
   "metadata": {},
   "outputs": [
    {
     "name": "stdout",
     "output_type": "stream",
     "text": [
      "Enter name = Ram\n",
      "Enter age = 34\n",
      "Enter add = Kathmandu\n"
     ]
    },
    {
     "ename": "AttributeError",
     "evalue": "'B' object has no attribute 'name'",
     "output_type": "error",
     "traceback": [
      "\u001b[1;31m---------------------------------------------------------------------------\u001b[0m",
      "\u001b[1;31mAttributeError\u001b[0m                            Traceback (most recent call last)",
      "\u001b[1;32m~\\AppData\\Local\\Temp/ipykernel_11920/1483332786.py\u001b[0m in \u001b[0;36m<module>\u001b[1;34m\u001b[0m\n\u001b[0;32m     18\u001b[0m \u001b[1;33m\u001b[0m\u001b[0m\n\u001b[0;32m     19\u001b[0m \u001b[0mobj\u001b[0m \u001b[1;33m=\u001b[0m \u001b[0mB\u001b[0m\u001b[1;33m(\u001b[0m\u001b[0mname\u001b[0m\u001b[1;33m,\u001b[0m\u001b[0mage\u001b[0m\u001b[1;33m,\u001b[0m\u001b[0madd\u001b[0m\u001b[1;33m)\u001b[0m\u001b[1;33m\u001b[0m\u001b[1;33m\u001b[0m\u001b[0m\n\u001b[1;32m---> 20\u001b[1;33m \u001b[0mobj\u001b[0m\u001b[1;33m.\u001b[0m\u001b[0minfo\u001b[0m\u001b[1;33m(\u001b[0m\u001b[1;33m)\u001b[0m\u001b[1;33m\u001b[0m\u001b[1;33m\u001b[0m\u001b[0m\n\u001b[0m\u001b[0;32m     21\u001b[0m \u001b[1;31m# print(obj.name)\u001b[0m\u001b[1;33m\u001b[0m\u001b[1;33m\u001b[0m\u001b[1;33m\u001b[0m\u001b[0m\n",
      "\u001b[1;32m~\\AppData\\Local\\Temp/ipykernel_11920/1483332786.py\u001b[0m in \u001b[0;36minfo\u001b[1;34m(self)\u001b[0m\n\u001b[0;32m     10\u001b[0m \u001b[1;33m\u001b[0m\u001b[0m\n\u001b[0;32m     11\u001b[0m     \u001b[1;32mdef\u001b[0m \u001b[0minfo\u001b[0m\u001b[1;33m(\u001b[0m\u001b[0mself\u001b[0m\u001b[1;33m)\u001b[0m\u001b[1;33m:\u001b[0m\u001b[1;33m\u001b[0m\u001b[1;33m\u001b[0m\u001b[0m\n\u001b[1;32m---> 12\u001b[1;33m         \u001b[0md\u001b[0m \u001b[1;33m=\u001b[0m \u001b[1;34mf\"Hello World I am {self.name}.I am {self._age}\"\u001b[0m\u001b[1;33m\u001b[0m\u001b[1;33m\u001b[0m\u001b[0m\n\u001b[0m\u001b[0;32m     13\u001b[0m         \u001b[0mprint\u001b[0m\u001b[1;33m(\u001b[0m\u001b[0md\u001b[0m\u001b[1;33m)\u001b[0m\u001b[1;33m\u001b[0m\u001b[1;33m\u001b[0m\u001b[0m\n\u001b[0;32m     14\u001b[0m \u001b[1;33m\u001b[0m\u001b[0m\n",
      "\u001b[1;31mAttributeError\u001b[0m: 'B' object has no attribute 'name'"
     ]
    }
   ],
   "source": [
    "class A:\n",
    "    def __init__(self,add,age):\n",
    "        self.__add = add              #private\n",
    "        self._age = age               #protected\n",
    "        \n",
    "class B(A):\n",
    "    def __init__(self,name,age,add):\n",
    "        self.name = name                 #public\n",
    "        A.__init__(self,add,age)\n",
    "        \n",
    "    def info(self):\n",
    "        d = f\"Hello World I am {self.name}.I am {self._age}\"\n",
    "        print(d)\n",
    "        \n",
    "name = input(\"Enter name = \")\n",
    "age = int(input(\"Enter age = \"))\n",
    "add = input(\"Enter add = \")\n",
    "\n",
    "obj = B(name,age,add)\n",
    "obj.info()\n",
    "# print(obj.name)"
   ]
  },
  {
   "cell_type": "code",
   "execution_count": 8,
   "metadata": {},
   "outputs": [
    {
     "name": "stdout",
     "output_type": "stream",
     "text": [
      "Enter name = Ram\n",
      "Enter age = 34\n",
      "Enter add = Kathmandu\n",
      "Hello World I am Ram.I am 34\n",
      "Hello World I am 34. I am from Kathmandu\n"
     ]
    }
   ],
   "source": [
    "class A:\n",
    "    def __init__(self,add,age):\n",
    "        self.__add = add              #private\n",
    "        self._age = age               #protected\n",
    "    def a(self):\n",
    "        print(f\"Hello World I am {self._age}. I am from {self.__add}\")\n",
    "        \n",
    "class B(A):\n",
    "    def __init__(self,name,age,add):\n",
    "        self.name = name                 #public\n",
    "        A.__init__(self,add,age) \n",
    "    def info(self):\n",
    "        d = f\"Hello World I am {self.name}.I am {self._age}\"\n",
    "        print(d)\n",
    "        \n",
    "name = input(\"Enter name = \")\n",
    "age = int(input(\"Enter age = \"))\n",
    "add = input(\"Enter add = \")\n",
    "obj = B(name,age,add)\n",
    "obj.info()\n",
    "obj.a()\n",
    "# print(obj.name)"
   ]
  },
  {
   "cell_type": "code",
   "execution_count": null,
   "metadata": {},
   "outputs": [],
   "source": [
    "class A:\n",
    "    def __init__(self,add):\n",
    "        self.__add = add\n",
    "    def address(self):\n",
    "        return f\"Hello I am from {self.__add}\"        \n",
    "class B:\n",
    "    def __init__(self,age):\n",
    "        self._age = age    \n",
    "class C(A,B):\n",
    "    def __init__(self,name,age,add):\n",
    "        self.name =name\n",
    "        B.__init__(self,age)\n",
    "        A.__init__(self,add)\n",
    "        \n",
    "    def info(self):\n",
    "        d = f\"Hello World I am {self.name}.I am {self._age}\"\n",
    "        print(d)        \n",
    "name = input(\"Enter name = \")\n",
    "age = int(input(\"Enter age = \"))\n",
    "add = input(\"Enter add = \")\n",
    "obj = C(name,age,add)\n",
    "obj.info()"
   ]
  },
  {
   "cell_type": "code",
   "execution_count": 16,
   "metadata": {},
   "outputs": [
    {
     "name": "stdout",
     "output_type": "stream",
     "text": [
      "Enter name = Ram\n",
      "Enter age = 34\n",
      "Enter add = Kathmandu\n",
      "Hello World I am Ram. I am from Kathmandu. I am 34\n"
     ]
    }
   ],
   "source": [
    "#super()\n",
    "class A:\n",
    "    def __init__(self):\n",
    "        self.name = input(\"Enter name = \")\n",
    "        self.age = int(input(\"Enter age = \"))\n",
    "        self.add = input(\"Enter add = \")\n",
    "    def info(self):\n",
    "        print(f'''Hello World I am {self.name}. \n",
    "              I am from {self.add}. I am {self.age}''')\n",
    "        \n",
    "class B(A):\n",
    "    def view_data(self):\n",
    "        super().info()\n",
    "obj = B()\n",
    "obj.view_data()"
   ]
  },
  {
   "cell_type": "code",
   "execution_count": null,
   "metadata": {},
   "outputs": [],
   "source": [
    "class Parrot:\n",
    "    def fly(self):\n",
    "        print(\"Parrot can fly\")\n",
    "    def swim(self):\n",
    "        print(\"Parrot can't swim\")\n",
    "class Penguin:\n",
    "    def fly(self):\n",
    "        print(\"Penguin can't fly\")\n",
    "    def swim(self):\n",
    "        print(\"Penguin can swim\")\n",
    "        \n",
    "# common interface\n",
    "def flying_test(bird):\n",
    "    bird.fly()\n",
    "    \n",
    "#instantiate objects\n",
    "blu = Parrot()\n",
    "peggy = Penguin()\n",
    "# passing the object\n",
    "flying_test(blu)\n",
    "flying_test(peggy)\n",
    "\n"
   ]
  }
 ],
 "metadata": {
  "kernelspec": {
   "display_name": "Python 3 (ipykernel)",
   "language": "python",
   "name": "python3"
  },
  "language_info": {
   "codemirror_mode": {
    "name": "ipython",
    "version": 3
   },
   "file_extension": ".py",
   "mimetype": "text/x-python",
   "name": "python",
   "nbconvert_exporter": "python",
   "pygments_lexer": "ipython3",
   "version": "3.7.1"
  }
 },
 "nbformat": 4,
 "nbformat_minor": 2
}
