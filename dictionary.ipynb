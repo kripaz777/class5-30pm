{
 "cells": [
  {
   "cell_type": "code",
   "execution_count": 1,
   "metadata": {},
   "outputs": [],
   "source": [
    "# # Dictionary\n",
    "# -Indexed\n",
    "# -Ordered\n",
    "# -Duplicate\n",
    "# -Mutable"
   ]
  },
  {
   "cell_type": "code",
   "execution_count": 2,
   "metadata": {},
   "outputs": [],
   "source": [
    "# d = {<key>:<value>,<key>:<value>,...}\n"
   ]
  },
  {
   "cell_type": "code",
   "execution_count": 5,
   "metadata": {},
   "outputs": [
    {
     "name": "stdout",
     "output_type": "stream",
     "text": [
      "<class 'dict'>\n",
      "{'a': 'Apple', 'b': 'Ball', 'c': 'Cat'}\n"
     ]
    }
   ],
   "source": [
    "d = {\"a\":\"Apple\",\"b\":\"Ball\",\"c\":\"Cat\"}\n",
    "print(type(d))\n",
    "print(d)"
   ]
  },
  {
   "cell_type": "code",
   "execution_count": 7,
   "metadata": {},
   "outputs": [
    {
     "name": "stdout",
     "output_type": "stream",
     "text": [
      "<class 'dict'>\n",
      "{0: 'Apple', 1: 'Ball', 2: 'Cat'}\n"
     ]
    }
   ],
   "source": [
    "d = {0:\"Apple\",1:\"Ball\",2:\"Cat\"}\n",
    "print(type(d))\n",
    "print(d)"
   ]
  },
  {
   "cell_type": "code",
   "execution_count": 10,
   "metadata": {},
   "outputs": [
    {
     "name": "stdout",
     "output_type": "stream",
     "text": [
      "Apple\n",
      "3\n"
     ]
    }
   ],
   "source": [
    "d = {\"a\":\"Apple\",\"b\":\"Ball\",\"c\":\"Cat\"}\n",
    "print(d['a'])\n",
    "print(len(d))"
   ]
  },
  {
   "cell_type": "code",
   "execution_count": 11,
   "metadata": {},
   "outputs": [
    {
     "name": "stdout",
     "output_type": "stream",
     "text": [
      "{}\n"
     ]
    }
   ],
   "source": [
    "# d = {}\n",
    "d = dict()\n",
    "print(d)"
   ]
  },
  {
   "cell_type": "code",
   "execution_count": 14,
   "metadata": {},
   "outputs": [
    {
     "data": {
      "text/plain": [
       "{'a': 'Apple', 'b': 'Ball', 'c': 'Cat'}"
      ]
     },
     "execution_count": 14,
     "metadata": {},
     "output_type": "execute_result"
    }
   ],
   "source": [
    "d = {}\n",
    "d['a'] = \"Apple\"\n",
    "d['b'] = \"Ball\"\n",
    "d['c'] = \"Cat\"\n",
    "d"
   ]
  },
  {
   "cell_type": "code",
   "execution_count": 15,
   "metadata": {},
   "outputs": [
    {
     "name": "stdout",
     "output_type": "stream",
     "text": [
      "Enter n = 2\n",
      "Enter name = Ram\n",
      "Enter phone = 9878778765\n",
      "Enter name = Shyam\n",
      "Enter phone = 9856554543\n",
      "{'Ram': '9878778765', 'Shyam': '9856554543'}\n"
     ]
    }
   ],
   "source": [
    "d = {}\n",
    "n = int(input(\"Enter n = \"))\n",
    "for i in range(n):\n",
    "    name = input(\"Enter name = \")\n",
    "    phone = input(\"Enter phone = \")\n",
    "    d[name] = phone\n",
    "    \n",
    "print(d)"
   ]
  },
  {
   "cell_type": "code",
   "execution_count": 16,
   "metadata": {},
   "outputs": [
    {
     "data": {
      "text/plain": [
       "{'Ram': '9867665654', 'Shyam': '9856554543'}"
      ]
     },
     "execution_count": 16,
     "metadata": {},
     "output_type": "execute_result"
    }
   ],
   "source": [
    "d = {'Ram': '9878778765', 'Shyam': '9856554543','Ram':'9867665654'}\n",
    "d"
   ]
  },
  {
   "cell_type": "code",
   "execution_count": 19,
   "metadata": {},
   "outputs": [
    {
     "name": "stdout",
     "output_type": "stream",
     "text": [
      "Ram\n",
      "Shyam\n"
     ]
    }
   ],
   "source": [
    "d = {'Ram': '9878778765', 'Shyam': '9856554543'}\n",
    "for i in d:\n",
    "    print(i)"
   ]
  },
  {
   "cell_type": "code",
   "execution_count": 20,
   "metadata": {},
   "outputs": [
    {
     "name": "stdout",
     "output_type": "stream",
     "text": [
      "9878778765\n",
      "9856554543\n"
     ]
    }
   ],
   "source": [
    "d = {'Ram': '9878778765', 'Shyam': '9856554543'}\n",
    "for i in d.values():\n",
    "    print(i)"
   ]
  },
  {
   "cell_type": "code",
   "execution_count": 21,
   "metadata": {},
   "outputs": [
    {
     "name": "stdout",
     "output_type": "stream",
     "text": [
      "('Ram', '9878778765')\n",
      "('Shyam', '9856554543')\n"
     ]
    }
   ],
   "source": [
    "d = {'Ram': '9878778765', 'Shyam': '9856554543'}\n",
    "for i in d.items():\n",
    "    print(i)"
   ]
  },
  {
   "cell_type": "code",
   "execution_count": 22,
   "metadata": {},
   "outputs": [
    {
     "name": "stdout",
     "output_type": "stream",
     "text": [
      "[('Ram', '9878778765'), ('Shyam', '9856554543')]\n"
     ]
    }
   ],
   "source": [
    "l = []\n",
    "d = {'Ram': '9878778765', 'Shyam': '9856554543'}\n",
    "for i in d.items():\n",
    "    l.append(i)\n",
    "    \n",
    "print(l)"
   ]
  },
  {
   "cell_type": "code",
   "execution_count": 24,
   "metadata": {},
   "outputs": [
    {
     "data": {
      "text/plain": [
       "{'Ram': '9878778765', 'Shyam': '9856554543'}"
      ]
     },
     "execution_count": 24,
     "metadata": {},
     "output_type": "execute_result"
    }
   ],
   "source": [
    "dict(l)"
   ]
  },
  {
   "cell_type": "code",
   "execution_count": 26,
   "metadata": {},
   "outputs": [
    {
     "data": {
      "text/plain": [
       "'9878778765'"
      ]
     },
     "execution_count": 26,
     "metadata": {},
     "output_type": "execute_result"
    }
   ],
   "source": [
    "d = {'Ram': '9878778765', 'Shyam': '9856554543'}\n",
    "d['Ram']"
   ]
  },
  {
   "cell_type": "code",
   "execution_count": 27,
   "metadata": {},
   "outputs": [
    {
     "data": {
      "text/plain": [
       "{'Ram': 9800000000, 'Shyam': '9856554543'}"
      ]
     },
     "execution_count": 27,
     "metadata": {},
     "output_type": "execute_result"
    }
   ],
   "source": [
    "d = {'Ram': '9878778765', 'Shyam': '9856554543'}\n",
    "d['Ram'] = 9800000000\n",
    "d"
   ]
  },
  {
   "cell_type": "code",
   "execution_count": 28,
   "metadata": {},
   "outputs": [
    {
     "data": {
      "text/plain": [
       "{'Shyam': '9856554543'}"
      ]
     },
     "execution_count": 28,
     "metadata": {},
     "output_type": "execute_result"
    }
   ],
   "source": [
    "# del pop()\n",
    "d = {'Ram': '9878778765', 'Shyam': '9856554543'}\n",
    "del d['Ram']\n",
    "d"
   ]
  },
  {
   "cell_type": "code",
   "execution_count": 30,
   "metadata": {},
   "outputs": [
    {
     "name": "stdout",
     "output_type": "stream",
     "text": [
      "9878778765\n",
      "{'Shyam': '9856554543'}\n"
     ]
    }
   ],
   "source": [
    "# del pop()\n",
    "d = {'Ram': '9878778765', 'Shyam': '9856554543'}\n",
    "c = d.pop('Ram')\n",
    "print(c)\n",
    "print(d)"
   ]
  },
  {
   "cell_type": "code",
   "execution_count": 32,
   "metadata": {},
   "outputs": [
    {
     "data": {
      "text/plain": [
       "{}"
      ]
     },
     "execution_count": 32,
     "metadata": {},
     "output_type": "execute_result"
    }
   ],
   "source": [
    "d = {'Ram': '9878778765', 'Shyam': '9856554543'}\n",
    "d.clear()\n",
    "d"
   ]
  },
  {
   "cell_type": "code",
   "execution_count": 35,
   "metadata": {},
   "outputs": [
    {
     "name": "stdout",
     "output_type": "stream",
     "text": [
      "{'Ram': '9878778765', 'Shyam': '9856554543', 'a': 'Apple', 'b': 'Ball', 'c': 'Cat'}\n"
     ]
    }
   ],
   "source": [
    "d = {'Ram': '9878778765', 'Shyam': '9856554543'}\n",
    "c = {'a': 'Apple', 'b': 'Ball', 'c': 'Cat'}\n",
    "d.update(c)\n",
    "print(d)"
   ]
  },
  {
   "cell_type": "code",
   "execution_count": 36,
   "metadata": {},
   "outputs": [
    {
     "data": {
      "text/plain": [
       "{'Ram': ['9878778765', '9867667543'], 'Shyam': ['9856554543', '9856556543']}"
      ]
     },
     "execution_count": 36,
     "metadata": {},
     "output_type": "execute_result"
    }
   ],
   "source": [
    "#list inside dictionary\n",
    "d = {'Ram': ['9878778765','9867667543'], 'Shyam': ['9856554543','9856556543']}\n",
    "d"
   ]
  },
  {
   "cell_type": "code",
   "execution_count": 40,
   "metadata": {},
   "outputs": [
    {
     "name": "stdout",
     "output_type": "stream",
     "text": [
      "Enter n = 2\n",
      "Enter name = Ram\n",
      "Enter ntc_phone = 9808667654\n",
      "Enter ncell_phone = 9808667654\n",
      "Enter name = Shyam\n",
      "Enter ntc_phone = 9843445432\n",
      "Enter ncell_phone = 9808334537\n",
      "{'Ram': [9808667654, 9808667654], 'Shyam': [9843445432, 9808334537]}\n"
     ]
    }
   ],
   "source": [
    "d = {}\n",
    "n = int(input(\"Enter n = \"))\n",
    "for i in range(n):\n",
    "    name = input(\"Enter name = \")\n",
    "    ntc_phone = int(input(\"Enter ntc_phone = \"))\n",
    "    ncell_phone = int(input(\"Enter ncell_phone = \"))\n",
    "    d[name] = [ntc_phone,ncell_phone]\n",
    "    \n",
    "print(d)"
   ]
  },
  {
   "cell_type": "code",
   "execution_count": 38,
   "metadata": {},
   "outputs": [
    {
     "name": "stdout",
     "output_type": "stream",
     "text": [
      "{'Ram': [9878778765, 9808667654], 'Shyam': [9843887654, 98086676543]}\n"
     ]
    }
   ],
   "source": [
    "print(d)"
   ]
  },
  {
   "cell_type": "code",
   "execution_count": 42,
   "metadata": {},
   "outputs": [
    {
     "data": {
      "text/plain": [
       "[9878778765, 9808667654]"
      ]
     },
     "execution_count": 42,
     "metadata": {},
     "output_type": "execute_result"
    }
   ],
   "source": [
    "#read\n",
    "info = {'Ram': [9878778765, 9808667654], 'Shyam': [9843887654, 98086676543]}\n",
    "info['Ram']\n"
   ]
  },
  {
   "cell_type": "code",
   "execution_count": 46,
   "metadata": {},
   "outputs": [
    {
     "data": {
      "text/plain": [
       "{'Ram': [9808777777, 9808667654], 'Shyam': [9843887654, 98086676543]}"
      ]
     },
     "execution_count": 46,
     "metadata": {},
     "output_type": "execute_result"
    }
   ],
   "source": [
    "#Update\n",
    "info = {'Ram': [9878778765, 9808667654], 'Shyam': [9843887654, 98086676543]}\n",
    "info['Ram'][0] = 9808777777\n",
    "info\n"
   ]
  },
  {
   "cell_type": "code",
   "execution_count": 48,
   "metadata": {},
   "outputs": [
    {
     "data": {
      "text/plain": [
       "{'Ram': [9878778765, 9808667654, 9808667654],\n",
       " 'Shyam': [9843887654, 98086676543]}"
      ]
     },
     "execution_count": 48,
     "metadata": {},
     "output_type": "execute_result"
    }
   ],
   "source": [
    "info = {'Ram': [9878778765, 9808667654], 'Shyam': [9843887654, 98086676543]}\n",
    "info['Ram'].append(9808667654)\n",
    "info"
   ]
  },
  {
   "cell_type": "code",
   "execution_count": 49,
   "metadata": {},
   "outputs": [
    {
     "name": "stdout",
     "output_type": "stream",
     "text": [
      "{'Name': 'Ram', 'ntc_phone': 9856556543, 'ncell': 9808667654}\n"
     ]
    }
   ],
   "source": [
    "#dict inside list\n",
    "info = [{'Name':'Ram','ntc_phone':9856556543,'ncell':9808667654},\n",
    "       {'Name':'Shyam','ntc_phone':9856558943,'ncell':9808567654}]\n",
    "print(info[0])"
   ]
  },
  {
   "cell_type": "code",
   "execution_count": 51,
   "metadata": {},
   "outputs": [
    {
     "name": "stdout",
     "output_type": "stream",
     "text": [
      "Enter n = 2\n",
      "Enter name = Ram\n",
      "Enter ntc_phone = 87889798\n",
      "Enter ncell_phone = 876876\n",
      "Enter name = Shyam\n",
      "Enter ntc_phone = 90809898\n",
      "Enter ncell_phone = 978978987\n",
      "[{'Name': 'Ram', 'ntc_phone': 87889798, 'ncell_phone': 876876}, {'Name': 'Shyam', 'ntc_phone': 90809898, 'ncell_phone': 978978987}]\n"
     ]
    }
   ],
   "source": [
    "d = []\n",
    "n = int(input(\"Enter n = \"))\n",
    "for i in range(n):\n",
    "    name = input(\"Enter name = \")\n",
    "    ntc_phone = int(input(\"Enter ntc_phone = \"))\n",
    "    ncell_phone = int(input(\"Enter ncell_phone = \"))\n",
    "    info = {'Name':name,'ntc_phone':ntc_phone,'ncell_phone':ncell_phone}\n",
    "    d.append(info)\n",
    "print(d)"
   ]
  },
  {
   "cell_type": "code",
   "execution_count": null,
   "metadata": {},
   "outputs": [],
   "source": [
    "# update and delete"
   ]
  },
  {
   "cell_type": "code",
   "execution_count": 1,
   "metadata": {},
   "outputs": [],
   "source": [
    "# dict inside dict"
   ]
  },
  {
   "cell_type": "code",
   "execution_count": 2,
   "metadata": {},
   "outputs": [
    {
     "data": {
      "text/plain": [
       "{'Ram': {'ntc': 9867667654, 'ncell': 9808667654},\n",
       " 'Shyam': {'ntc': 9867667654, 'ncell': 9808667654}}"
      ]
     },
     "execution_count": 2,
     "metadata": {},
     "output_type": "execute_result"
    }
   ],
   "source": [
    "d = {\"Ram\":{\"ntc\":9867667654,\"ncell\":9808667654},\n",
    "    \"Shyam\":{\"ntc\":9867667654,\"ncell\":9808667654}}\n",
    "d"
   ]
  },
  {
   "cell_type": "code",
   "execution_count": 4,
   "metadata": {},
   "outputs": [
    {
     "data": {
      "text/plain": [
       "{'ntc': 9867667654, 'ncell': 9808667654}"
      ]
     },
     "execution_count": 4,
     "metadata": {},
     "output_type": "execute_result"
    }
   ],
   "source": [
    "d[\"Shyam\"]"
   ]
  },
  {
   "cell_type": "code",
   "execution_count": 5,
   "metadata": {},
   "outputs": [
    {
     "name": "stdout",
     "output_type": "stream",
     "text": [
      "Ram\n",
      "Shyam\n"
     ]
    }
   ],
   "source": [
    "for i in d:\n",
    "    print(i)"
   ]
  },
  {
   "cell_type": "code",
   "execution_count": 6,
   "metadata": {},
   "outputs": [
    {
     "name": "stdout",
     "output_type": "stream",
     "text": [
      "{'ntc': 9867667654, 'ncell': 9808667654}\n",
      "{'ntc': 9867667654, 'ncell': 9808667654}\n"
     ]
    }
   ],
   "source": [
    "for i in d.values():\n",
    "    print(i)"
   ]
  },
  {
   "cell_type": "code",
   "execution_count": 7,
   "metadata": {},
   "outputs": [
    {
     "name": "stdout",
     "output_type": "stream",
     "text": [
      "('Ram', {'ntc': 9867667654, 'ncell': 9808667654})\n",
      "('Shyam', {'ntc': 9867667654, 'ncell': 9808667654})\n"
     ]
    }
   ],
   "source": [
    "for i in d.items():\n",
    "    print(i)"
   ]
  },
  {
   "cell_type": "code",
   "execution_count": 8,
   "metadata": {},
   "outputs": [
    {
     "name": "stdout",
     "output_type": "stream",
     "text": [
      "Enter n = 2\n",
      "Enter name = Ram\n",
      "Enter ntc_phone = 9867667654\n",
      "Enter ncell_phone = 9808667654\n",
      "Enter name = Ram\n",
      "Enter ntc_phone = 9867667654\n",
      "Enter ncell_phone = 9808667654\n",
      "{'Ram': {'ntc_phone': 9867667654, 'ncell_phone': 9808667654}}\n"
     ]
    }
   ],
   "source": [
    "d = {}\n",
    "n = int(input(\"Enter n = \"))\n",
    "for i in range(n):\n",
    "    name = input(\"Enter name = \")\n",
    "    ntc_phone = int(input(\"Enter ntc_phone = \"))\n",
    "    ncell_phone = int(input(\"Enter ncell_phone = \"))\n",
    "    d[name] = {'ntc_phone':ntc_phone,'ncell_phone':ncell_phone}\n",
    "print(d)"
   ]
  },
  {
   "cell_type": "code",
   "execution_count": 9,
   "metadata": {},
   "outputs": [
    {
     "data": {
      "text/plain": [
       "{'Ram': {'ntc_phone': 9867667654, 'ncell_phone': 9808667654},\n",
       " 'Hari': {'ntc_phone': 98676676567, 'ncell_phone': 9878667654}}"
      ]
     },
     "execution_count": 9,
     "metadata": {},
     "output_type": "execute_result"
    }
   ],
   "source": [
    "d = {'Ram': {'ntc_phone': 9867667654, 'ncell_phone': 9808667654}}\n",
    "d['Hari'] = {'ntc_phone': 98676676567, 'ncell_phone': 9878667654}\n",
    "d"
   ]
  },
  {
   "cell_type": "code",
   "execution_count": null,
   "metadata": {},
   "outputs": [],
   "source": []
  }
 ],
 "metadata": {
  "kernelspec": {
   "display_name": "Python 3 (ipykernel)",
   "language": "python",
   "name": "python3"
  },
  "language_info": {
   "codemirror_mode": {
    "name": "ipython",
    "version": 3
   },
   "file_extension": ".py",
   "mimetype": "text/x-python",
   "name": "python",
   "nbconvert_exporter": "python",
   "pygments_lexer": "ipython3",
   "version": "3.7.1"
  }
 },
 "nbformat": 4,
 "nbformat_minor": 2
}
