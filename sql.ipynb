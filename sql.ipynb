{
 "cells": [
  {
   "cell_type": "code",
   "execution_count": 1,
   "metadata": {},
   "outputs": [
    {
     "name": "stdout",
     "output_type": "stream",
     "text": [
      "Requirement already satisfied: mysql-connector in c:\\users\\coral\\anaconda3\\lib\\site-packages (2.2.9)\n"
     ]
    },
    {
     "name": "stderr",
     "output_type": "stream",
     "text": [
      "WARNING: Ignoring invalid distribution -illow (c:\\users\\coral\\anaconda3\\lib\\site-packages)\n",
      "WARNING: Ignoring invalid distribution -illow (c:\\users\\coral\\anaconda3\\lib\\site-packages)\n",
      "WARNING: Ignoring invalid distribution -illow (c:\\users\\coral\\anaconda3\\lib\\site-packages)\n",
      "WARNING: Ignoring invalid distribution -illow (c:\\users\\coral\\anaconda3\\lib\\site-packages)\n",
      "WARNING: Ignoring invalid distribution -illow (c:\\users\\coral\\anaconda3\\lib\\site-packages)\n",
      "WARNING: Ignoring invalid distribution -illow (c:\\users\\coral\\anaconda3\\lib\\site-packages)\n",
      "WARNING: You are using pip version 22.0.4; however, version 22.1.2 is available.\n",
      "You should consider upgrading via the 'C:\\Users\\coral\\Anaconda3\\python.exe -m pip install --upgrade pip' command.\n"
     ]
    }
   ],
   "source": [
    "!pip install mysql-connector"
   ]
  },
  {
   "cell_type": "code",
   "execution_count": 3,
   "metadata": {},
   "outputs": [],
   "source": [
    "import mysql.connector #importing database\n",
    "database = mysql.connector.connect(host=\"localhost\",user=\"root\",password=\"\")\n",
    "db = database.cursor()\n",
    "db.execute(\"CREATE DATABASE pythonss\")"
   ]
  },
  {
   "cell_type": "code",
   "execution_count": 8,
   "metadata": {},
   "outputs": [],
   "source": [
    "import mysql.connector #importing database\n",
    "database = mysql.connector.connect(\n",
    "    host=\"localhost\",\n",
    "    user=\"root\",\n",
    "    password=\"\",\n",
    "    database = \"pythonClass5pm\"\n",
    ")\n",
    "db = database.cursor()"
   ]
  },
  {
   "cell_type": "code",
   "execution_count": 10,
   "metadata": {},
   "outputs": [
    {
     "name": "stdout",
     "output_type": "stream",
     "text": [
      "(1, 'Ram', 78, 67, 95, 90, 76, 412, 82.0, 'A')\n",
      "(2, 'Shyam', 78, 89, 78, 90, 95, 480, 85.0, 'A')\n",
      "(3, 'Nabin', 88, 89, 78, 90, 95, 480, 90.0, 'A+')\n",
      "(4, 'Sita', 89, 80, 78, 85, 76, 400, 80.0, 'A')\n",
      "(5, 'Sita Ram', 89, 80, 78, 85, 76, 410, 82.0, 'A')\n",
      "(6, 'Nira', 78, 89, 78, 78, 56, 400, 80.0, 'A')\n"
     ]
    }
   ],
   "source": [
    "db.execute(\"SELECT * FROM student\")\n",
    "result =db.fetchall()\n",
    "for x in result:\n",
    "    print(x)\n"
   ]
  },
  {
   "cell_type": "code",
   "execution_count": 11,
   "metadata": {},
   "outputs": [
    {
     "name": "stdout",
     "output_type": "stream",
     "text": [
      "(1, 'Ram', 412, 82.0)\n",
      "(2, 'Shyam', 480, 85.0)\n",
      "(3, 'Nabin', 480, 90.0)\n",
      "(4, 'Sita', 400, 80.0)\n",
      "(5, 'Sita Ram', 410, 82.0)\n",
      "(6, 'Nira', 400, 80.0)\n"
     ]
    }
   ],
   "source": [
    "db.execute(\"SELECT sn,name,total,per FROM student\")\n",
    "result =db.fetchall()\n",
    "for x in result:\n",
    "    print(x)\n"
   ]
  },
  {
   "cell_type": "code",
   "execution_count": 12,
   "metadata": {},
   "outputs": [
    {
     "name": "stdout",
     "output_type": "stream",
     "text": [
      "(1, 'Ram', 78, 67, 95, 90, 76, 412, 82.0, 'A')\n",
      "(2, 'Shyam', 78, 89, 78, 90, 95, 480, 85.0, 'A')\n",
      "(4, 'Sita', 89, 80, 78, 85, 76, 400, 80.0, 'A')\n",
      "(5, 'Sita Ram', 89, 80, 78, 85, 76, 410, 82.0, 'A')\n",
      "(6, 'Nira', 78, 89, 78, 78, 56, 400, 80.0, 'A')\n"
     ]
    }
   ],
   "source": [
    "db.execute(\"SELECT * FROM student WHERE grade = 'A'\")\n",
    "result =db.fetchall()\n",
    "for x in result:\n",
    "    print(x)"
   ]
  },
  {
   "cell_type": "code",
   "execution_count": 14,
   "metadata": {},
   "outputs": [],
   "source": [
    "sql = '''INSERT INTO student (sn, name, physics, chemistry, math, english, nepali, total, per, grade) \n",
    "VALUES (11, 'Sabina', 78, 80, 60, 90, 95, 442, 86.0, 'A')'''\n",
    "db.execute(sql)\n",
    "database.commit()"
   ]
  },
  {
   "cell_type": "code",
   "execution_count": 15,
   "metadata": {},
   "outputs": [],
   "source": [
    "# # WAP to input values and save in database\n",
    "# sql = f'''INSERT INTO student (sn, name, physics, chemistry, math, english, nepali, total, per, grade) \n",
    "# VALUES ({sn}, '{name}', {physics}, {chemistry}, {math}, {english}, {nepali}, {total}, {per}, '{grade}')'''"
   ]
  },
  {
   "cell_type": "code",
   "execution_count": 16,
   "metadata": {},
   "outputs": [],
   "source": [
    "sql = \"DELETE FROM student WHERE sn = 6\"\n",
    "db.execute(sql)\n",
    "database.commit()"
   ]
  },
  {
   "cell_type": "code",
   "execution_count": 18,
   "metadata": {},
   "outputs": [],
   "source": [
    "sql = \"UPDATE  student SET name = 'John' WHERE name = 'Ram'\"\n",
    "db.execute(sql)\n",
    "database.commit()"
   ]
  },
  {
   "cell_type": "code",
   "execution_count": null,
   "metadata": {},
   "outputs": [],
   "source": []
  }
 ],
 "metadata": {
  "kernelspec": {
   "display_name": "Python 3 (ipykernel)",
   "language": "python",
   "name": "python3"
  },
  "language_info": {
   "codemirror_mode": {
    "name": "ipython",
    "version": 3
   },
   "file_extension": ".py",
   "mimetype": "text/x-python",
   "name": "python",
   "nbconvert_exporter": "python",
   "pygments_lexer": "ipython3",
   "version": "3.7.1"
  }
 },
 "nbformat": 4,
 "nbformat_minor": 2
}
