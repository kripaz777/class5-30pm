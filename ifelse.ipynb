{
 "cells": [
  {
   "cell_type": "code",
   "execution_count": 1,
   "metadata": {},
   "outputs": [],
   "source": [
    "# if <condition>:\n",
    "#     <operations>\n",
    "    \n",
    "# elif <condition>:\n",
    "#     <operations>\n",
    "    \n",
    "# else:\n",
    "#     <operations>"
   ]
  },
  {
   "cell_type": "code",
   "execution_count": 7,
   "metadata": {},
   "outputs": [
    {
     "name": "stdout",
     "output_type": "stream",
     "text": [
      "Enter a = 10\n",
      "a is even \n"
     ]
    }
   ],
   "source": [
    "a = int(input(\"Enter a = \"))\n",
    "if a%2 == 0:\n",
    "    print(\"a is even \")\n",
    "else:\n",
    "    print(\"a is odd \")"
   ]
  },
  {
   "cell_type": "code",
   "execution_count": 8,
   "metadata": {},
   "outputs": [
    {
     "name": "stdout",
     "output_type": "stream",
     "text": [
      "Enter a = 10\n",
      "Enetr b = 11\n",
      "b is greater than a \n"
     ]
    }
   ],
   "source": [
    "a = int(input(\"Enter a = \"))\n",
    "b = int(input(\"Enetr b = \"))\n",
    "if a<b:\n",
    "    print(\"b is greater than a \")\n",
    "elif a>b:\n",
    "    print(\"a is greater then b \")\n",
    "else:\n",
    "    print(\"a and b both are equal\")\n",
    "    "
   ]
  },
  {
   "cell_type": "code",
   "execution_count": null,
   "metadata": {},
   "outputs": [],
   "source": [
    "name = input(\"Enter name = \")\n",
    "physics = int(input(\"Enter physics name = \"))\n",
    "chemistry = int(input(\"Enter chemistry name \"))\n",
    "math = int(input(\"Enter math marks = \"))\n",
    "english = int(input(\"Enetr english marks = \"))\n",
    "nepali = int(input(\"Enter nepali marks = \"))\n",
    "\n",
    "total=physics+chemistry+math+english+nepali\n",
    "per = total/5\n",
    "\n",
    "if per >= 80:\n",
    "    print(\"A grade\")\n",
    "elif per >= 60:\n",
    "    print(\"B grade\")\n",
    "elif per >= 45:\n",
    "    print(\"C grade \")\n",
    "else:\n",
    "    print(\"F grade\")"
   ]
  },
  {
   "cell_type": "code",
   "execution_count": null,
   "metadata": {},
   "outputs": [],
   "source": [
    "# WAP to create a calculator\n",
    "# a = ?\n",
    "# b = ?\n",
    "# o =?"
   ]
  },
  {
   "cell_type": "code",
   "execution_count": 9,
   "metadata": {},
   "outputs": [
    {
     "name": "stdout",
     "output_type": "stream",
     "text": [
      "Enter a = 10\n",
      "Enter b = 2\n",
      "Enter + or - or * or //\n",
      "5.0\n"
     ]
    }
   ],
   "source": [
    "a = int(input(\"Enter a = \"))\n",
    "b = int(input(\"Enter b = \"))\n",
    "o = input(\"Enter + or - or * or /\")\n",
    "if o == \"+\":\n",
    "    print(a+b)\n",
    "elif o == \"-\":\n",
    "    print(a-b)\n",
    "elif o == \"*\":\n",
    "    print(a*b)\n",
    "    \n",
    "elif (o == \"/\") and (b!= 0):\n",
    "    print(a/b)\n",
    "    \n",
    "elif (o == \"/\") and (b== 0):\n",
    "    print(\"The value of b can not be zero.\")\n",
    "    \n",
    "else:\n",
    "    print(\"Invalid operator\")"
   ]
  },
  {
   "cell_type": "code",
   "execution_count": 10,
   "metadata": {},
   "outputs": [],
   "source": [
    "# # and or\n",
    "# and ->  &\n",
    "# or -> |"
   ]
  },
  {
   "cell_type": "code",
   "execution_count": 12,
   "metadata": {},
   "outputs": [
    {
     "name": "stdout",
     "output_type": "stream",
     "text": [
      "False\n"
     ]
    }
   ],
   "source": [
    "a = True\n",
    "b = False\n",
    "print(a and b)"
   ]
  },
  {
   "cell_type": "code",
   "execution_count": 13,
   "metadata": {},
   "outputs": [
    {
     "name": "stdout",
     "output_type": "stream",
     "text": [
      "True\n"
     ]
    }
   ],
   "source": [
    "a = True\n",
    "b = False\n",
    "print(a or b)"
   ]
  },
  {
   "cell_type": "code",
   "execution_count": null,
   "metadata": {},
   "outputs": [],
   "source": [
    "# # # nested id\n",
    "# if <condition>:\n",
    "# #     if <condition>:\n",
    "# #         <operations>\n",
    "# #     else:\n",
    "# #         <operations>"
   ]
  },
  {
   "cell_type": "code",
   "execution_count": 2,
   "metadata": {},
   "outputs": [
    {
     "name": "stdout",
     "output_type": "stream",
     "text": [
      "Enter a = 10\n",
      "The value of a is even and greater than zero\n"
     ]
    }
   ],
   "source": [
    "# even positive\n",
    "a= int(input(\"Enter a = \"))\n",
    "if a%2 ==0:\n",
    "    if a>0:\n",
    "        print(\"The value of a is even and greater than zero\")\n",
    "    else:\n",
    "        print(\"The value of a is even but smaller than zero\")"
   ]
  },
  {
   "cell_type": "code",
   "execution_count": null,
   "metadata": {},
   "outputs": [],
   "source": [
    "# even positive\n",
    "a= int(input(\"Enter a = \"))\n",
    "if a%2 ==0:\n",
    "    if a>0:\n",
    "        print(\"The value of a is even and greater than zero\")\n",
    "    else:\n",
    "        print(\"The value of a is even but smaller than zero\")\n",
    "else:\n",
    "    print(\"The value of a is odd\")"
   ]
  },
  {
   "cell_type": "code",
   "execution_count": 3,
   "metadata": {},
   "outputs": [
    {
     "name": "stdout",
     "output_type": "stream",
     "text": [
      "Enter a = 10\n",
      "Enter b = 2\n",
      "Enter + or - or * or //\n",
      "5.0\n"
     ]
    }
   ],
   "source": [
    "a = int(input(\"Enter a = \"))\n",
    "b = int(input(\"Enter b = \"))\n",
    "o = input(\"Enter + or - or * or /\")\n",
    "if o == \"+\":\n",
    "    print(a+b)\n",
    "elif o == \"-\":\n",
    "    print(a-b)\n",
    "elif o == \"*\":\n",
    "    print(a*b)\n",
    "    \n",
    "elif (o == \"/\"):\n",
    "    if b!=0:\n",
    "        print(a/b)\n",
    "    else:\n",
    "        print(\"The value of b can not be zero.\")\n",
    "\n",
    "else:\n",
    "    print(\"Invalid operator\")"
   ]
  },
  {
   "cell_type": "code",
   "execution_count": 8,
   "metadata": {},
   "outputs": [
    {
     "name": "stdout",
     "output_type": "stream",
     "text": [
      "Enter o price = 1000\n",
      "Enter s price 1100\n",
      "profit =  100\n"
     ]
    }
   ],
   "source": [
    "# WAP to calculate profit or loss.\n",
    "# a = 20\n",
    "# b = 10\n",
    "# profit or loss\n",
    "\n",
    "original_price = int(input(\"Enter o price = \"))\n",
    "selling_price = int(input(\"Enter s price \"))\n",
    "if original_price > selling_price:\n",
    "    loss = original_price - selling_price\n",
    "    print(\"Loss = \",loss)\n",
    "    \n",
    "elif selling_price > original_price:\n",
    "    profit =  selling_price - original_price\n",
    "    print(\"profit = \",profit)\n",
    "\n",
    "else:\n",
    "    print(\"No profit No loss\")"
   ]
  },
  {
   "cell_type": "code",
   "execution_count": null,
   "metadata": {},
   "outputs": [],
   "source": []
  }
 ],
 "metadata": {
  "kernelspec": {
   "display_name": "Python 3 (ipykernel)",
   "language": "python",
   "name": "python3"
  },
  "language_info": {
   "codemirror_mode": {
    "name": "ipython",
    "version": 3
   },
   "file_extension": ".py",
   "mimetype": "text/x-python",
   "name": "python",
   "nbconvert_exporter": "python",
   "pygments_lexer": "ipython3",
   "version": "3.7.1"
  }
 },
 "nbformat": 4,
 "nbformat_minor": 2
}
